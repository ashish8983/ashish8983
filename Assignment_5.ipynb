{
 "cells": [
  {
   "cell_type": "code",
   "execution_count": null,
   "id": "5a51aec8",
   "metadata": {},
   "outputs": [],
   "source": [
    "##1. What does an empty dictionary's code look like?"
   ]
  },
  {
   "cell_type": "code",
   "execution_count": 1,
   "id": "06e11ef9",
   "metadata": {},
   "outputs": [],
   "source": [
    "d={}"
   ]
  },
  {
   "cell_type": "code",
   "execution_count": 2,
   "id": "2ed6f423",
   "metadata": {},
   "outputs": [],
   "source": [
    "#2. What is the value of a dictionary value with the key & 'foo' and the value 42?"
   ]
  },
  {
   "cell_type": "code",
   "execution_count": 3,
   "id": "c8d39e4a",
   "metadata": {},
   "outputs": [],
   "source": [
    "d = {'foo':42}"
   ]
  },
  {
   "cell_type": "code",
   "execution_count": 4,
   "id": "f22f519a",
   "metadata": {},
   "outputs": [],
   "source": [
    "# 3. What is the most significant distinction between a dictionary and a list?"
   ]
  },
  {
   "cell_type": "code",
   "execution_count": 5,
   "id": "f98a79eb",
   "metadata": {},
   "outputs": [],
   "source": [
    "# A list is an ordered sequence of objects, whereas dictionaries are unordered sets. However, \n",
    "# the main difference is that items in dictionaries are accessed via keys and not via their position."
   ]
  },
  {
   "cell_type": "code",
   "execution_count": 6,
   "id": "2e1bee62",
   "metadata": {},
   "outputs": [],
   "source": [
    "# 4. What happens if you try to access spam['foo'] if spam is {'bar': 100}?"
   ]
  },
  {
   "cell_type": "code",
   "execution_count": 7,
   "id": "15e38fcc",
   "metadata": {},
   "outputs": [
    {
     "ename": "KeyError",
     "evalue": "'foo'",
     "output_type": "error",
     "traceback": [
      "\u001b[1;31m---------------------------------------------------------------------------\u001b[0m",
      "\u001b[1;31mKeyError\u001b[0m                                  Traceback (most recent call last)",
      "Input \u001b[1;32mIn [7]\u001b[0m, in \u001b[0;36m<cell line: 2>\u001b[1;34m()\u001b[0m\n\u001b[0;32m      1\u001b[0m spam \u001b[38;5;241m=\u001b[39m {\u001b[38;5;124m'\u001b[39m\u001b[38;5;124mbar\u001b[39m\u001b[38;5;124m'\u001b[39m:\u001b[38;5;241m100\u001b[39m}\n\u001b[1;32m----> 2\u001b[0m \u001b[43mspam\u001b[49m\u001b[43m[\u001b[49m\u001b[38;5;124;43m'\u001b[39;49m\u001b[38;5;124;43mfoo\u001b[39;49m\u001b[38;5;124;43m'\u001b[39;49m\u001b[43m]\u001b[49m\n",
      "\u001b[1;31mKeyError\u001b[0m: 'foo'"
     ]
    }
   ],
   "source": [
    "spam = {'bar':100}\n",
    "spam['foo']"
   ]
  },
  {
   "cell_type": "code",
   "execution_count": 8,
   "id": "30324d51",
   "metadata": {},
   "outputs": [],
   "source": [
    "# Key error for 'foo' as we don't have foo as key"
   ]
  },
  {
   "cell_type": "code",
   "execution_count": 9,
   "id": "ab6b5e50",
   "metadata": {},
   "outputs": [],
   "source": [
    "# 5. If a dictionary is stored in spam, what is the difference between the expressions 'cat' in spam and 'cat' in spam.keys()?"
   ]
  },
  {
   "cell_type": "code",
   "execution_count": 14,
   "id": "d652735a",
   "metadata": {},
   "outputs": [],
   "source": [
    "spam = {'cat':0}"
   ]
  },
  {
   "cell_type": "code",
   "execution_count": 18,
   "id": "f3781377",
   "metadata": {},
   "outputs": [
    {
     "data": {
      "text/plain": [
       "dict_keys(['cat'])"
      ]
     },
     "execution_count": 18,
     "metadata": {},
     "output_type": "execute_result"
    }
   ],
   "source": [
    "spam.keys() # it wll create the list for keys in the dect, it also represent the keys value"
   ]
  },
  {
   "cell_type": "code",
   "execution_count": 19,
   "id": "01f9d573",
   "metadata": {},
   "outputs": [],
   "source": [
    "# 6. If a dictionary is stored in spam, what is the difference between the expressions 'cat' in spam and 'cat' in spam.values()?"
   ]
  },
  {
   "cell_type": "code",
   "execution_count": 20,
   "id": "da1bf59b",
   "metadata": {},
   "outputs": [],
   "source": [
    "# it represents as the value pair for the key stored in the dect"
   ]
  },
  {
   "cell_type": "code",
   "execution_count": 21,
   "id": "56948c82",
   "metadata": {},
   "outputs": [],
   "source": [
    "#7. What is a shortcut for the following code?"
   ]
  },
  {
   "cell_type": "code",
   "execution_count": 22,
   "id": "5262895a",
   "metadata": {},
   "outputs": [],
   "source": [
    "# 8. How do you \"pretty print\" dictionary values using which module and function?"
   ]
  },
  {
   "cell_type": "code",
   "execution_count": null,
   "id": "5acb53ca",
   "metadata": {},
   "outputs": [],
   "source": [
    "# pprint() is a Python module that provides the capability to pretty print Python data types to be more readable. \n",
    "# This module also supports pretty-printing dictionary."
   ]
  }
 ],
 "metadata": {
  "kernelspec": {
   "display_name": "Python 3 (ipykernel)",
   "language": "python",
   "name": "python3"
  },
  "language_info": {
   "codemirror_mode": {
    "name": "ipython",
    "version": 3
   },
   "file_extension": ".py",
   "mimetype": "text/x-python",
   "name": "python",
   "nbconvert_exporter": "python",
   "pygments_lexer": "ipython3",
   "version": "3.9.12"
  }
 },
 "nbformat": 4,
 "nbformat_minor": 5
}
