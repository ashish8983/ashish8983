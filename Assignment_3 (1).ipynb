{
 "cells": [
  {
   "cell_type": "markdown",
   "id": "1dfe2a06",
   "metadata": {},
   "source": [
    "1. Why are functions advantageous to have in your programs?"
   ]
  },
  {
   "cell_type": "code",
   "execution_count": null,
   "id": "27e9afa8",
   "metadata": {},
   "outputs": [],
   "source": [
    "Functions are important because they solve the task in the manner we design it. also they makes the code short and use of leanghty code will be reduce. Also they are easy to update and read"
   ]
  },
  {
   "cell_type": "markdown",
   "id": "facee8f5",
   "metadata": {},
   "source": [
    "2. When does the code in a function run: when it&#39;s specified or when it&#39;s called?"
   ]
  },
  {
   "cell_type": "raw",
   "id": "f2cff1eb",
   "metadata": {},
   "source": [
    "# It will run when it will be called"
   ]
  },
  {
   "cell_type": "markdown",
   "id": "76b59ef3",
   "metadata": {},
   "source": [
    "3. What statement creates a function?"
   ]
  },
  {
   "cell_type": "raw",
   "id": "5d76770e",
   "metadata": {},
   "source": [
    "def and funtion name so it will be look like; def test():"
   ]
  },
  {
   "cell_type": "markdown",
   "id": "62885e20",
   "metadata": {},
   "source": [
    "4. What is the difference between a function and a function call?"
   ]
  },
  {
   "cell_type": "raw",
   "id": "78f91877",
   "metadata": {},
   "source": [
    "function = this is the actaul code written to perform the dersided output and \n",
    "function call = this is the command required to run any fuction"
   ]
  },
  {
   "cell_type": "markdown",
   "id": "dabe058d",
   "metadata": {},
   "source": [
    "5. How many global scopes are there in a Python program? How many local scopes?"
   ]
  },
  {
   "cell_type": "raw",
   "id": "e618219b",
   "metadata": {},
   "source": [
    "There is only one global Python scope per program execution. \n",
    "This scope remains in existence until the program terminates and all its names are forgotten."
   ]
  },
  {
   "cell_type": "markdown",
   "id": "b4b96e5b",
   "metadata": {},
   "source": [
    "6. What happens to variables in a local scope when the function call returns?"
   ]
  },
  {
   "cell_type": "raw",
   "id": "d3ac59fd",
   "metadata": {},
   "source": [
    "A local variable retains its value until the next time the function is called, a local variable becomes undefined after the function call completes. \n",
    "The local variable can be used outside the function any time after the function call completes"
   ]
  },
  {
   "cell_type": "markdown",
   "id": "4d91d6ef",
   "metadata": {},
   "source": [
    "7. What is the concept of a return value? Is it possible to have a return value in an expression?"
   ]
  },
  {
   "cell_type": "raw",
   "id": "7354170a",
   "metadata": {},
   "source": [
    "In general, a function takes arguments, performs some operations, and returns a value (or object). \n",
    "The value that a function returns to the caller is generally known as the function's return value. \n",
    "All Python functions have a return value, either explicit or implicit. Yes it is possible to have return value in an expression"
   ]
  },
  {
   "cell_type": "markdown",
   "id": "0c467f46",
   "metadata": {},
   "source": [
    "8. If a function does not have a return statement, what is the return value of a call to that function?"
   ]
  },
  {
   "cell_type": "raw",
   "id": "0e06f5cf",
   "metadata": {},
   "source": [
    "it returns None "
   ]
  },
  {
   "cell_type": "markdown",
   "id": "a7e227af",
   "metadata": {},
   "source": [
    "9. How do you make a function variable refer to the global variable?"
   ]
  },
  {
   "cell_type": "raw",
   "id": "ce1bc1ce",
   "metadata": {},
   "source": [
    "If you want to refer to a global variable in a function, you can use the global keyword to declare which variables are global."
   ]
  },
  {
   "cell_type": "markdown",
   "id": "008090c6",
   "metadata": {},
   "source": [
    "10. What is the data type of None?"
   ]
  },
  {
   "cell_type": "raw",
   "id": "4f26b049",
   "metadata": {},
   "source": [
    "The None keyword in Python is used to describe a null value or no value at all. None does not mean a value 0, False, or an empty string"
   ]
  },
  {
   "cell_type": "markdown",
   "id": "24d59a45",
   "metadata": {},
   "source": [
    "11. What does the sentence import areallyourpetsnamederic do?"
   ]
  },
  {
   "cell_type": "raw",
   "id": "3d57a308",
   "metadata": {},
   "source": [
    "import statement imports a module named areallyourpetsnamederic"
   ]
  },
  {
   "cell_type": "markdown",
   "id": "17f0a697",
   "metadata": {},
   "source": [
    "12. If you had a bacon() feature in a spam module, what would you call it after importing spam?"
   ]
  },
  {
   "cell_type": "raw",
   "id": "e1dd3e9f",
   "metadata": {},
   "source": [
    "This function can be called with spam.bacon()"
   ]
  },
  {
   "cell_type": "markdown",
   "id": "18d368c2",
   "metadata": {},
   "source": [
    "13. What can you do to save a programme from crashing if it encounters an error?"
   ]
  },
  {
   "cell_type": "raw",
   "id": "48138eab",
   "metadata": {},
   "source": [
    "we have moved our code inside a try and except statement."
   ]
  },
  {
   "cell_type": "markdown",
   "id": "640fe089",
   "metadata": {},
   "source": [
    "14. What is the purpose of the try clause? What is the purpose of the except clause?"
   ]
  },
  {
   "cell_type": "raw",
   "id": "10ea1a03",
   "metadata": {},
   "source": [
    "The try block lets you test a block of code for errors. The except block lets you handle the error. The else block lets you execute code when there is no error."
   ]
  },
  {
   "cell_type": "code",
   "execution_count": null,
   "id": "b594778e",
   "metadata": {},
   "outputs": [],
   "source": []
  }
 ],
 "metadata": {
  "kernelspec": {
   "display_name": "Python 3 (ipykernel)",
   "language": "python",
   "name": "python3"
  },
  "language_info": {
   "codemirror_mode": {
    "name": "ipython",
    "version": 3
   },
   "file_extension": ".py",
   "mimetype": "text/x-python",
   "name": "python",
   "nbconvert_exporter": "python",
   "pygments_lexer": "ipython3",
   "version": "3.9.12"
  }
 },
 "nbformat": 4,
 "nbformat_minor": 5
}
